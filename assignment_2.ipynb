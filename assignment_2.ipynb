{
 "cells": [
  {
   "cell_type": "code",
   "execution_count": 11,
   "metadata": {
    "collapsed": true
   },
   "outputs": [],
   "source": [
    "import numpy as np\n",
    "from sklearn.cluster import MiniBatchKMeans\n",
    "import matplotlib.pyplot as plt\n",
    "\n",
    "\n",
    "from PIL import Image, ImageDraw, ImageOps\n",
    "from sklearn import datasets\n",
    "from sklearn.preprocessing import scale"
   ]
  },
  {
   "cell_type": "code",
   "execution_count": 2,
   "metadata": {
    "collapsed": true
   },
   "outputs": [],
   "source": [
    "class Tools:\n",
    "    @staticmethod\n",
    "    def drawCentroids(centroids='ro'):\n",
    "        plt.plot(centroids[:, 0], centroids[:, 1], 'ro')\n",
    "\n",
    "    @staticmethod\n",
    "    def drawCentroid(centroid, symbol='ro'):\n",
    "        plt.plot(centroid[0], centroid[1], symbol)\n",
    "\n",
    "    @staticmethod\n",
    "    def drawDataSet(X, symbol):\n",
    "        plt.plot(X[:, 0], X[:, 1], symbol)\n",
    "\n",
    "    @staticmethod\n",
    "    def distBetween(a, b):\n",
    "        return np.sqrt(np.power(a[0]-b[0], 2) + np.power(a[1] - b[1], 2))\n",
    "\n",
    "    @staticmethod\n",
    "    def generateSomeData(start, end, numbers):\n",
    "        pass\n",
    "\n",
    "    @staticmethod\n",
    "    def exchange_binary_image_white_black(img):\n",
    "        # img is an binary img\n",
    "        img = img.convert('L')\n",
    "        pixels = np.array(img)\n",
    "        threshold = 100\n",
    "\n",
    "        rows = len(pixels)\n",
    "        cols = len(pixels[0])\n",
    "\n",
    "        for i in range(rows):\n",
    "            for j in range(cols):\n",
    "                if pixels[i][j] > threshold:\n",
    "                    pixels[i][j] = 0\n",
    "                else:\n",
    "                    pixels[i][j] = 255\n",
    "\n",
    "        return pixels"
   ]
  },
  {
   "cell_type": "code",
   "execution_count": 8,
   "metadata": {
    "collapsed": true
   },
   "outputs": [],
   "source": [
    "# My KMeans class wrapper\n",
    "class Cluster:\n",
    "    def __init__(self, dataSet, centroid):\n",
    "        self.dataSet = dataSet\n",
    "        self.centroid = centroid\n",
    "\n",
    "    def getCentroid(self):\n",
    "        return self.centroid\n",
    "\n",
    "    def getCluster(self):\n",
    "        return self.dataSet\n",
    "\n",
    "\n",
    "class KMeans:\n",
    "    def __init__(self):\n",
    "        self.centroids = np.array([])\n",
    "        self.cluster_0 = []\n",
    "        self.cluster_1 = []\n",
    "        self.c_0 = None\n",
    "        self.c_1 = None\n",
    "\n",
    "    def split(self, dataSet):\n",
    "        kM = MiniBatchKMeans(n_clusters=2)\n",
    "        result = kM.fit(dataSet)\n",
    "\n",
    "        self.c_0 = result.cluster_centers_[0]\n",
    "        self.c_1 = result.cluster_centers_[1]\n",
    "\n",
    "        index = 0\n",
    "        for label in result.labels_:\n",
    "            if label == 0:\n",
    "                self.cluster_0.append(dataSet[index])\n",
    "            else:\n",
    "                self.cluster_1.append(dataSet[index])\n",
    "            index += 1\n",
    "\n",
    "        self.cluster_0 = np.array(self.cluster_0)\n",
    "        self.cluster_1 = np.array(self.cluster_1)\n"
   ]
  },
  {
   "cell_type": "code",
   "execution_count": 9,
   "metadata": {
    "collapsed": true
   },
   "outputs": [],
   "source": [
    "# My GMeans\n",
    "class GMeans:\n",
    "    def __init__(self, strictLevel):\n",
    "        self.strickLevel = strictLevel\n",
    "        self.centroids = []\n",
    "        self.cluster = []\n",
    "\n",
    "    # recursive helper method\n",
    "    def computeGMeans(self, X):\n",
    "        centroid = np.mean(X, axis=0)\n",
    "\n",
    "        km = KMeans()\n",
    "        km.split(dataSet=X)\n",
    "        v = km.c_0 - km.c_1\n",
    "\n",
    "        X_prime = scale(X.dot(v) / (v.dot(v)))\n",
    "        accept_split = GMeans.checkGaussianStatistic(X_prime, self.strickLevel)\n",
    "\n",
    "        if accept_split:\n",
    "            self.computeGMeans(km.cluster_0)\n",
    "            self.computeGMeans(km.cluster_1)\n",
    "        else:\n",
    "            self.centroids.append(centroid)\n",
    "\n",
    "    @staticmethod\n",
    "    def checkGaussianStatistic(X, strictLevel):\n",
    "        X = X - np.mean(X)\n",
    "        output = anderson(X)\n",
    "        statistic = output[0]\n",
    "        critical_value = output[1][strictLevel]\n",
    "        # print statistic, critical_value\n",
    "        if statistic >= critical_value:\n",
    "            return True\n",
    "        else:\n",
    "            return False\n",
    "\n",
    "    def fit(self, X):\n",
    "        self.computeGMeans(X)\n",
    "        self.centroids = np.array(self.centroids)\n"
   ]
  },
  {
   "cell_type": "code",
   "execution_count": 12,
   "metadata": {},
   "outputs": [
    {
     "ename": "NameError",
     "evalue": "global name 'anderson' is not defined",
     "output_type": "error",
     "traceback": [
      "\u001b[0;31m---------------------------------------------------------------------------\u001b[0m",
      "\u001b[0;31mNameError\u001b[0m                                 Traceback (most recent call last)",
      "\u001b[0;32m<ipython-input-12-c60a73992f97>\u001b[0m in \u001b[0;36m<module>\u001b[0;34m()\u001b[0m\n\u001b[1;32m     17\u001b[0m \u001b[0;34m\u001b[0m\u001b[0m\n\u001b[1;32m     18\u001b[0m \u001b[0mgM\u001b[0m \u001b[0;34m=\u001b[0m \u001b[0mGMeans\u001b[0m\u001b[0;34m(\u001b[0m\u001b[0mstrictLevel\u001b[0m\u001b[0;34m=\u001b[0m\u001b[0;36m4\u001b[0m\u001b[0;34m)\u001b[0m\u001b[0;34m\u001b[0m\u001b[0m\n\u001b[0;32m---> 19\u001b[0;31m \u001b[0mgM\u001b[0m\u001b[0;34m.\u001b[0m\u001b[0mfit\u001b[0m\u001b[0;34m(\u001b[0m\u001b[0mtotal_dataSet\u001b[0m\u001b[0;34m)\u001b[0m\u001b[0;34m\u001b[0m\u001b[0m\n\u001b[0m\u001b[1;32m     20\u001b[0m \u001b[0;34m\u001b[0m\u001b[0m\n\u001b[1;32m     21\u001b[0m \u001b[0;32mprint\u001b[0m \u001b[0;34m\"found {} clusters\"\u001b[0m\u001b[0;34m.\u001b[0m\u001b[0mformat\u001b[0m\u001b[0;34m(\u001b[0m\u001b[0mlen\u001b[0m\u001b[0;34m(\u001b[0m\u001b[0mgM\u001b[0m\u001b[0;34m.\u001b[0m\u001b[0mcentroids\u001b[0m\u001b[0;34m)\u001b[0m\u001b[0;34m)\u001b[0m\u001b[0;34m\u001b[0m\u001b[0m\n",
      "\u001b[0;32m<ipython-input-9-7222d272230d>\u001b[0m in \u001b[0;36mfit\u001b[0;34m(self, X)\u001b[0m\n\u001b[1;32m     36\u001b[0m \u001b[0;34m\u001b[0m\u001b[0m\n\u001b[1;32m     37\u001b[0m     \u001b[0;32mdef\u001b[0m \u001b[0mfit\u001b[0m\u001b[0;34m(\u001b[0m\u001b[0mself\u001b[0m\u001b[0;34m,\u001b[0m \u001b[0mX\u001b[0m\u001b[0;34m)\u001b[0m\u001b[0;34m:\u001b[0m\u001b[0;34m\u001b[0m\u001b[0m\n\u001b[0;32m---> 38\u001b[0;31m         \u001b[0mself\u001b[0m\u001b[0;34m.\u001b[0m\u001b[0mcomputeGMeans\u001b[0m\u001b[0;34m(\u001b[0m\u001b[0mX\u001b[0m\u001b[0;34m)\u001b[0m\u001b[0;34m\u001b[0m\u001b[0m\n\u001b[0m\u001b[1;32m     39\u001b[0m         \u001b[0mself\u001b[0m\u001b[0;34m.\u001b[0m\u001b[0mcentroids\u001b[0m \u001b[0;34m=\u001b[0m \u001b[0mnp\u001b[0m\u001b[0;34m.\u001b[0m\u001b[0marray\u001b[0m\u001b[0;34m(\u001b[0m\u001b[0mself\u001b[0m\u001b[0;34m.\u001b[0m\u001b[0mcentroids\u001b[0m\u001b[0;34m)\u001b[0m\u001b[0;34m\u001b[0m\u001b[0m\n",
      "\u001b[0;32m<ipython-input-9-7222d272230d>\u001b[0m in \u001b[0;36mcomputeGMeans\u001b[0;34m(self, X)\u001b[0m\n\u001b[1;32m     15\u001b[0m \u001b[0;34m\u001b[0m\u001b[0m\n\u001b[1;32m     16\u001b[0m         \u001b[0mX_prime\u001b[0m \u001b[0;34m=\u001b[0m \u001b[0mscale\u001b[0m\u001b[0;34m(\u001b[0m\u001b[0mX\u001b[0m\u001b[0;34m.\u001b[0m\u001b[0mdot\u001b[0m\u001b[0;34m(\u001b[0m\u001b[0mv\u001b[0m\u001b[0;34m)\u001b[0m \u001b[0;34m/\u001b[0m \u001b[0;34m(\u001b[0m\u001b[0mv\u001b[0m\u001b[0;34m.\u001b[0m\u001b[0mdot\u001b[0m\u001b[0;34m(\u001b[0m\u001b[0mv\u001b[0m\u001b[0;34m)\u001b[0m\u001b[0;34m)\u001b[0m\u001b[0;34m)\u001b[0m\u001b[0;34m\u001b[0m\u001b[0m\n\u001b[0;32m---> 17\u001b[0;31m         \u001b[0maccept_split\u001b[0m \u001b[0;34m=\u001b[0m \u001b[0mGMeans\u001b[0m\u001b[0;34m.\u001b[0m\u001b[0mcheckGaussianStatistic\u001b[0m\u001b[0;34m(\u001b[0m\u001b[0mX_prime\u001b[0m\u001b[0;34m,\u001b[0m \u001b[0mself\u001b[0m\u001b[0;34m.\u001b[0m\u001b[0mstrickLevel\u001b[0m\u001b[0;34m)\u001b[0m\u001b[0;34m\u001b[0m\u001b[0m\n\u001b[0m\u001b[1;32m     18\u001b[0m \u001b[0;34m\u001b[0m\u001b[0m\n\u001b[1;32m     19\u001b[0m         \u001b[0;32mif\u001b[0m \u001b[0maccept_split\u001b[0m\u001b[0;34m:\u001b[0m\u001b[0;34m\u001b[0m\u001b[0m\n",
      "\u001b[0;32m<ipython-input-9-7222d272230d>\u001b[0m in \u001b[0;36mcheckGaussianStatistic\u001b[0;34m(X, strictLevel)\u001b[0m\n\u001b[1;32m     26\u001b[0m     \u001b[0;32mdef\u001b[0m \u001b[0mcheckGaussianStatistic\u001b[0m\u001b[0;34m(\u001b[0m\u001b[0mX\u001b[0m\u001b[0;34m,\u001b[0m \u001b[0mstrictLevel\u001b[0m\u001b[0;34m)\u001b[0m\u001b[0;34m:\u001b[0m\u001b[0;34m\u001b[0m\u001b[0m\n\u001b[1;32m     27\u001b[0m         \u001b[0mX\u001b[0m \u001b[0;34m=\u001b[0m \u001b[0mX\u001b[0m \u001b[0;34m-\u001b[0m \u001b[0mnp\u001b[0m\u001b[0;34m.\u001b[0m\u001b[0mmean\u001b[0m\u001b[0;34m(\u001b[0m\u001b[0mX\u001b[0m\u001b[0;34m)\u001b[0m\u001b[0;34m\u001b[0m\u001b[0m\n\u001b[0;32m---> 28\u001b[0;31m         \u001b[0moutput\u001b[0m \u001b[0;34m=\u001b[0m \u001b[0manderson\u001b[0m\u001b[0;34m(\u001b[0m\u001b[0mX\u001b[0m\u001b[0;34m)\u001b[0m\u001b[0;34m\u001b[0m\u001b[0m\n\u001b[0m\u001b[1;32m     29\u001b[0m         \u001b[0mstatistic\u001b[0m \u001b[0;34m=\u001b[0m \u001b[0moutput\u001b[0m\u001b[0;34m[\u001b[0m\u001b[0;36m0\u001b[0m\u001b[0;34m]\u001b[0m\u001b[0;34m\u001b[0m\u001b[0m\n\u001b[1;32m     30\u001b[0m         \u001b[0mcritical_value\u001b[0m \u001b[0;34m=\u001b[0m \u001b[0moutput\u001b[0m\u001b[0;34m[\u001b[0m\u001b[0;36m1\u001b[0m\u001b[0;34m]\u001b[0m\u001b[0;34m[\u001b[0m\u001b[0mstrictLevel\u001b[0m\u001b[0;34m]\u001b[0m\u001b[0;34m\u001b[0m\u001b[0m\n",
      "\u001b[0;31mNameError\u001b[0m: global name 'anderson' is not defined"
     ]
    }
   ],
   "source": [
    "# Experiment one:\n",
    "# show the G-Mean works\n",
    "\n",
    " # demo one:\n",
    "dataSet1 = np.random.randn(100, 2)+2\n",
    "dataSet2 = np.random.randn(100, 2)+5\n",
    "dataSet3 = np.random.randn(400, 2)-2\n",
    "# dataSet4 = np.random.randn(50, 2)-5\n",
    "dataSet5 = np.random.randn(20, 2)-10\n",
    "\n",
    "total_dataSet = np.vstack((dataSet1, dataSet2))\n",
    "total_dataSet = np.vstack((total_dataSet, dataSet3))\n",
    "# total_dataSet = np.vstack((total_dataSet, dataSet4))\n",
    "total_dataSet = np.vstack((total_dataSet, dataSet5))\n",
    "\n",
    "total_dataSet = np.random.permutation(total_dataSet)\n",
    "\n",
    "gM = GMeans(strictLevel=4)\n",
    "gM.fit(total_dataSet)\n",
    "\n",
    "print \"found {} clusters\".format(len(gM.centroids))\n",
    "\n",
    "tl.drawDataSet(total_dataSet, 'g+')\n",
    "tl.drawCentroids(gM.centroids)\n",
    "plt.show()"
   ]
  },
  {
   "cell_type": "code",
   "execution_count": null,
   "metadata": {
    "collapsed": true
   },
   "outputs": [],
   "source": []
  }
 ],
 "metadata": {
  "kernelspec": {
   "display_name": "Python 2",
   "language": "python",
   "name": "python2"
  },
  "language_info": {
   "codemirror_mode": {
    "name": "ipython",
    "version": 2
   },
   "file_extension": ".py",
   "mimetype": "text/x-python",
   "name": "python",
   "nbconvert_exporter": "python",
   "pygments_lexer": "ipython2",
   "version": "2.7.13"
  }
 },
 "nbformat": 4,
 "nbformat_minor": 2
}
