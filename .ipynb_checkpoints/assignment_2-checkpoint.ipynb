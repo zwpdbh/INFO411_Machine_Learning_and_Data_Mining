{
 "cells": [
  {
   "cell_type": "code",
   "execution_count": 6,
   "metadata": {
    "collapsed": true
   },
   "outputs": [],
   "source": [
    "import numpy as np\n",
    "from sklearn.cluster import MiniBatchKMeans\n",
    "import matplotlib.pyplot as plt\n",
    "\n",
    "\n",
    "from PIL import Image, ImageDraw, ImageOps\n",
    "from sklearn import datasets"
   ]
  },
  {
   "cell_type": "code",
   "execution_count": 2,
   "metadata": {
    "collapsed": true
   },
   "outputs": [],
   "source": [
    "class Tools:\n",
    "    @staticmethod\n",
    "    def drawCentroids(centroids='ro'):\n",
    "        plt.plot(centroids[:, 0], centroids[:, 1], 'ro')\n",
    "\n",
    "    @staticmethod\n",
    "    def drawCentroid(centroid, symbol='ro'):\n",
    "        plt.plot(centroid[0], centroid[1], symbol)\n",
    "\n",
    "    @staticmethod\n",
    "    def drawDataSet(X, symbol):\n",
    "        plt.plot(X[:, 0], X[:, 1], symbol)\n",
    "\n",
    "    @staticmethod\n",
    "    def distBetween(a, b):\n",
    "        return np.sqrt(np.power(a[0]-b[0], 2) + np.power(a[1] - b[1], 2))\n",
    "\n",
    "    @staticmethod\n",
    "    def generateSomeData(start, end, numbers):\n",
    "        pass\n",
    "\n",
    "    @staticmethod\n",
    "    def exchange_binary_image_white_black(img):\n",
    "        # img is an binary img\n",
    "        img = img.convert('L')\n",
    "        pixels = np.array(img)\n",
    "        threshold = 100\n",
    "\n",
    "        rows = len(pixels)\n",
    "        cols = len(pixels[0])\n",
    "\n",
    "        for i in range(rows):\n",
    "            for j in range(cols):\n",
    "                if pixels[i][j] > threshold:\n",
    "                    pixels[i][j] = 0\n",
    "                else:\n",
    "                    pixels[i][j] = 255\n",
    "\n",
    "        return pixels"
   ]
  },
  {
   "cell_type": "code",
   "execution_count": null,
   "metadata": {
    "collapsed": true
   },
   "outputs": [],
   "source": [
    "# My KMeans class wrapper\n",
    "class Cluster:\n",
    "    def __init__(self, dataSet, centroid):\n",
    "        self.dataSet = dataSet\n",
    "        self.centroid = centroid\n",
    "\n",
    "    def getCentroid(self):\n",
    "        return self.centroid\n",
    "\n",
    "    def getCluster(self):\n",
    "        return self.dataSet\n",
    "\n",
    "\n",
    "class KMeans:\n",
    "    def __init__(self):\n",
    "        self.centroids = np.array([])\n",
    "        self.cluster_0 = []\n",
    "        self.cluster_1 = []\n",
    "        self.c_0 = None\n",
    "        self.c_1 = None\n",
    "\n",
    "    def split(self, dataSet):\n",
    "        kM = MiniBatchKMeans(n_clusters=2)\n",
    "        result = kM.fit(dataSet)\n",
    "\n",
    "        self.c_0 = result.cluster_centers_[0]\n",
    "        self.c_1 = result.cluster_centers_[1]\n",
    "\n",
    "        index = 0\n",
    "        for label in result.labels_:\n",
    "            if label == 0:\n",
    "                self.cluster_0.append(dataSet[index])\n",
    "            else:\n",
    "                self.cluster_1.append(dataSet[index])\n",
    "            index += 1\n",
    "\n",
    "        self.cluster_0 = np.array(self.cluster_0)\n",
    "        self.cluster_1 = np.array(self.cluster_1)\n"
   ]
  },
  {
   "cell_type": "code",
   "execution_count": 4,
   "metadata": {
    "collapsed": true
   },
   "outputs": [],
   "source": [
    "# My GMeans\n",
    "class GMeans:\n",
    "    def __init__(self, strictLevel):\n",
    "        self.strickLevel = strictLevel\n",
    "        self.centroids = []\n",
    "        self.cluster = []\n",
    "\n",
    "    # recursive helper method\n",
    "    def computeGMeans(self, X):\n",
    "        centroid = np.mean(X, axis=0)\n",
    "\n",
    "        km = KMeans()\n",
    "        km.split(dataSet=X)\n",
    "        v = km.c_0 - km.c_1\n",
    "\n",
    "        X_prime = scale(X.dot(v) / (v.dot(v)))\n",
    "        accept_split = GMeans.checkGaussianStatistic(X_prime, self.strickLevel)\n",
    "\n",
    "        if accept_split:\n",
    "            self.computeGMeans(km.cluster_0)\n",
    "            self.computeGMeans(km.cluster_1)\n",
    "        else:\n",
    "            self.centroids.append(centroid)\n",
    "\n",
    "    @staticmethod\n",
    "    def checkGaussianStatistic(X, strictLevel):\n",
    "        X = X - np.mean(X)\n",
    "        output = anderson(X)\n",
    "        statistic = output[0]\n",
    "        critical_value = output[1][strictLevel]\n",
    "        # print statistic, critical_value\n",
    "        if statistic >= critical_value:\n",
    "            return True\n",
    "        else:\n",
    "            return False\n",
    "\n",
    "    def fit(self, X):\n",
    "        self.computeGMeans(X)\n",
    "        self.centroids = np.array(self.centroids)\n"
   ]
  },
  {
   "cell_type": "code",
   "execution_count": null,
   "metadata": {
    "collapsed": true
   },
   "outputs": [],
   "source": [
    "# Experiment one:\n",
    "# show the G-Mean works\n"
   ]
  }
 ],
 "metadata": {
  "kernelspec": {
   "display_name": "Python 2",
   "language": "python",
   "name": "python2"
  },
  "language_info": {
   "codemirror_mode": {
    "name": "ipython",
    "version": 2
   },
   "file_extension": ".py",
   "mimetype": "text/x-python",
   "name": "python",
   "nbconvert_exporter": "python",
   "pygments_lexer": "ipython2",
   "version": "2.7.13"
  }
 },
 "nbformat": 4,
 "nbformat_minor": 2
}
